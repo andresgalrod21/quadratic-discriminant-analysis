{
  "nbformat": 4,
  "nbformat_minor": 0,
  "metadata": {
    "colab": {
      "provenance": [],
      "include_colab_link": true
    },
    "kernelspec": {
      "name": "python3",
      "display_name": "Python 3"
    },
    "language_info": {
      "name": "python"
    }
  },
  "cells": [
    {
      "cell_type": "markdown",
      "metadata": {
        "id": "view-in-github",
        "colab_type": "text"
      },
      "source": [
        "<a href=\"https://colab.research.google.com/github/andresgalrod21/quadratic-discriminant-analysis/blob/DavidRomero/quadratic_discriminant_analysis.ipynb\" target=\"_parent\"><img src=\"https://colab.research.google.com/assets/colab-badge.svg\" alt=\"Open In Colab\"/></a>"
      ]
    },
    {
      "cell_type": "markdown",
      "source": [],
      "metadata": {
        "id": "oQFpErvP534l"
      }
    },
    {
      "cell_type": "markdown",
      "source": [
        "## Quadratic Discriminant Analysis"
      ],
      "metadata": {
        "id": "j9QYDqZF3qbP"
      }
    },
    {
      "cell_type": "code",
      "source": [
        "import numpy as np\n",
        "import pandas as pd\n",
        "import matplotlib.pyplot as plt\n",
        "import seaborn as sns\n",
        "from sklearn.model_selection import train_test_split\n",
        "from sklearn.preprocessing import StandardScaler, LabelEncoder\n",
        "from sklearn.metrics import confusion_matrix, accuracy_score, classification_report\n",
        "from sklearn.discriminant_analysis import QuadraticDiscriminantAnalysis\n",
        "\n",
        "# Cargar el dataset\n",
        "data = pd.read_csv('mental_health_and_technology_usage_2024.csv')\n",
        "\n",
        "# Exploración inicial de los datos\n",
        "print(data.head())\n",
        "print(data.info())\n",
        "print(data.describe())\n",
        "\n",
        "# Eliminación de la columna 'User_ID'\n",
        "data = data.drop(columns=['User_ID'])\n",
        "print(\"----------------------------------------------------------------\")\n",
        "print(data.isnull().sum())  # Verificar valores nulos\n",
        "\n",
        "# Codificación de la columna 'Gender'\n",
        "data['Gender'] = data['Gender'].map({'Male': 0, 'Female': 1})\n",
        "\n",
        "# Opción 1: Predicción del estado de salud mental\n",
        "X_mental_health = data.drop(columns=['Mental_Health_Status'])  # Características\n",
        "y_mental_health = data['Mental_Health_Status']  # Variable objetivo\n",
        "\n",
        "# Identificar columnas con datos no numéricos\n",
        "categorical_cols = X_mental_health.select_dtypes(include=['object']).columns\n",
        "\n",
        "# Convertir las columnas categóricas a numéricas usando LabelEncoder\n",
        "label_encoder = LabelEncoder()\n",
        "for col in categorical_cols:\n",
        "    X_mental_health[col] = label_encoder.fit_transform(X_mental_health[col])\n",
        "\n",
        "# Dividir los datos en conjuntos de entrenamiento y prueba\n",
        "X_train, X_test, y_train, y_test = train_test_split(X_mental_health, y_mental_health, test_size=0.2, random_state=42)\n",
        "\n",
        "# Eliminar las filas con valores nulos\n",
        "X_train = pd.DataFrame(X_train).dropna()\n",
        "X_test = pd.DataFrame(X_test).dropna()\n",
        "\n",
        "y_train = y_train.loc[X_train.index]  # Asegurarse de que las etiquetas coincidan con las filas restantes\n",
        "y_test = y_test.loc[X_test.index]\n",
        "\n",
        "# Estandarizar las características\n",
        "scaler = StandardScaler()\n",
        "X_train = scaler.fit_transform(X_train)\n",
        "X_test = scaler.transform(X_test)\n",
        "\n",
        "# Entrenamiento del modelo de Análisis Discriminante Cuadrático (QDA)\n",
        "qda = QuadraticDiscriminantAnalysis()\n",
        "qda.fit(X_train, y_train)\n",
        "\n",
        "# Predicción con el modelo\n",
        "y_pred = qda.predict(X_test)\n",
        "\n",
        "# Evaluación del modelo\n",
        "print(\"Accuracy:\", accuracy_score(y_test, y_pred))\n",
        "print(\"Confusion Matrix:\\n\", confusion_matrix(y_test, y_pred))\n",
        "print(\"Classification Report:\\n\", classification_report(y_test, y_pred))\n",
        "\n",
        "# Graficar la matriz de confusión\n",
        "sns.heatmap(confusion_matrix(y_test, y_pred), annot=True, fmt=\"d\", cmap=\"Blues\")\n",
        "plt.title(\"Confusion Matrix - QDA\")\n",
        "plt.ylabel(\"True Label\")\n",
        "plt.xlabel(\"Predicted Label\")\n",
        "plt.show()\n",
        "\n",
        "\n",
        "\n",
        "\n"
      ],
      "metadata": {
        "colab": {
          "base_uri": "https://localhost:8080/",
          "height": 1000
        },
        "id": "qe4klCNBusih",
        "outputId": "66299b06-7a66-4a69-e5bb-c5d507a64e23"
      },
      "execution_count": 14,
      "outputs": [
        {
          "output_type": "stream",
          "name": "stdout",
          "text": [
            "      User_ID  Age  Gender  Technology_Usage_Hours  Social_Media_Usage_Hours  \\\n",
            "0  USER-00001   23  Female                    6.57                      6.00   \n",
            "1  USER-00002   21    Male                    3.01                      2.57   \n",
            "2  USER-00003   51    Male                    3.04                      6.14   \n",
            "3  USER-00004   25  Female                    3.84                      4.48   \n",
            "4  USER-00005   53    Male                    1.20                      0.56   \n",
            "\n",
            "   Gaming_Hours  Screen_Time_Hours Mental_Health_Status Stress_Level  \\\n",
            "0          0.68              12.36                 Good          Low   \n",
            "1          3.74               7.61                 Poor         High   \n",
            "2          1.26               3.16                 Fair         High   \n",
            "3          2.59              13.08            Excellent       Medium   \n",
            "4          0.29              12.63                 Good          Low   \n",
            "\n",
            "   Sleep_Hours  Physical_Activity_Hours Support_Systems_Access  \\\n",
            "0         8.01                     6.71                     No   \n",
            "1         7.28                     5.88                    Yes   \n",
            "2         8.04                     9.81                     No   \n",
            "3         5.62                     5.28                    Yes   \n",
            "4         5.55                     4.00                     No   \n",
            "\n",
            "  Work_Environment_Impact Online_Support_Usage  \n",
            "0                Negative                  Yes  \n",
            "1                Positive                   No  \n",
            "2                Negative                   No  \n",
            "3                Negative                  Yes  \n",
            "4                Positive                  Yes  \n",
            "<class 'pandas.core.frame.DataFrame'>\n",
            "RangeIndex: 10000 entries, 0 to 9999\n",
            "Data columns (total 14 columns):\n",
            " #   Column                    Non-Null Count  Dtype  \n",
            "---  ------                    --------------  -----  \n",
            " 0   User_ID                   10000 non-null  object \n",
            " 1   Age                       10000 non-null  int64  \n",
            " 2   Gender                    10000 non-null  object \n",
            " 3   Technology_Usage_Hours    10000 non-null  float64\n",
            " 4   Social_Media_Usage_Hours  10000 non-null  float64\n",
            " 5   Gaming_Hours              10000 non-null  float64\n",
            " 6   Screen_Time_Hours         10000 non-null  float64\n",
            " 7   Mental_Health_Status      10000 non-null  object \n",
            " 8   Stress_Level              10000 non-null  object \n",
            " 9   Sleep_Hours               10000 non-null  float64\n",
            " 10  Physical_Activity_Hours   10000 non-null  float64\n",
            " 11  Support_Systems_Access    10000 non-null  object \n",
            " 12  Work_Environment_Impact   10000 non-null  object \n",
            " 13  Online_Support_Usage      10000 non-null  object \n",
            "dtypes: float64(6), int64(1), object(7)\n",
            "memory usage: 1.1+ MB\n",
            "None\n",
            "                Age  Technology_Usage_Hours  Social_Media_Usage_Hours  \\\n",
            "count  10000.000000            10000.000000              10000.000000   \n",
            "mean      41.518600                6.474341                  3.972321   \n",
            "std       13.920217                3.169022                  2.313707   \n",
            "min       18.000000                1.000000                  0.000000   \n",
            "25%       29.000000                3.760000                  1.980000   \n",
            "50%       42.000000                6.425000                  3.950000   \n",
            "75%       54.000000                9.212500                  5.990000   \n",
            "max       65.000000               12.000000                  8.000000   \n",
            "\n",
            "       Gaming_Hours  Screen_Time_Hours   Sleep_Hours  Physical_Activity_Hours  \n",
            "count  10000.000000       10000.000000  10000.000000             10000.000000  \n",
            "mean       2.515598           7.975765      6.500724                 5.003860  \n",
            "std        1.446748           4.042608      1.450933                 2.905044  \n",
            "min        0.000000           1.000000      4.000000                 0.000000  \n",
            "25%        1.260000           4.520000      5.260000                 2.490000  \n",
            "50%        2.520000           7.900000      6.500000                 4.990000  \n",
            "75%        3.790000          11.500000      7.760000                 7.540000  \n",
            "max        5.000000          15.000000      9.000000                10.000000  \n",
            "----------------------------------------------------------------\n",
            "Age                         0\n",
            "Gender                      0\n",
            "Technology_Usage_Hours      0\n",
            "Social_Media_Usage_Hours    0\n",
            "Gaming_Hours                0\n",
            "Screen_Time_Hours           0\n",
            "Mental_Health_Status        0\n",
            "Stress_Level                0\n",
            "Sleep_Hours                 0\n",
            "Physical_Activity_Hours     0\n",
            "Support_Systems_Access      0\n",
            "Work_Environment_Impact     0\n",
            "Online_Support_Usage        0\n",
            "dtype: int64\n",
            "Accuracy: 0.23133776792313376\n",
            "Confusion Matrix:\n",
            " [[ 81  86  71 100]\n",
            " [ 95  73  68  91]\n",
            " [ 92  90  80 101]\n",
            " [ 76  87  83  79]]\n",
            "Classification Report:\n",
            "               precision    recall  f1-score   support\n",
            "\n",
            "   Excellent       0.24      0.24      0.24       338\n",
            "        Fair       0.22      0.22      0.22       327\n",
            "        Good       0.26      0.22      0.24       363\n",
            "        Poor       0.21      0.24      0.23       325\n",
            "\n",
            "    accuracy                           0.23      1353\n",
            "   macro avg       0.23      0.23      0.23      1353\n",
            "weighted avg       0.23      0.23      0.23      1353\n",
            "\n"
          ]
        },
        {
          "output_type": "display_data",
          "data": {
            "text/plain": [
              "<Figure size 640x480 with 2 Axes>"
            ],
            "image/png": "[encoded data removed]"
          },
          "metadata": {}
        }
      ]
    },
    {
      "cell_type": "markdown",
      "source": [
        "# Sección nueva"
      ],
      "metadata": {
        "id": "c7L1uTz5sVO0"
      }
    }
  ]
}