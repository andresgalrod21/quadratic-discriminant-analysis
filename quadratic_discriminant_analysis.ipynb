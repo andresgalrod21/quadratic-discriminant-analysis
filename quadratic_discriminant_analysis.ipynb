{
  "nbformat": 4,
  "nbformat_minor": 0,
  "metadata": {
    "colab": {
      "provenance": [],
      "authorship_tag": "ABX9TyP0uE0bUsYMagtXftFWOtL6",
      "include_colab_link": true
    },
    "kernelspec": {
      "name": "python3",
      "display_name": "Python 3"
    },
    "language_info": {
      "name": "python"
    }
  },
  "cells": [
    {
      "cell_type": "markdown",
      "metadata": {
        "id": "view-in-github",
        "colab_type": "text"
      },
      "source": [
        "<a href=\"https://colab.research.google.com/github/andresgalrod21/quadratic-discriminant-analysis/blob/AndresGalindo/quadratic_discriminant_analysis.ipynb\" target=\"_parent\"><img src=\"https://colab.research.google.com/assets/colab-badge.svg\" alt=\"Open In Colab\"/></a>"
      ]
    },
    {
      "cell_type": "markdown",
      "source": [],
      "metadata": {
        "id": "oQFpErvP534l"
      }
    },
    {
      "cell_type": "markdown",
      "source": [
        "## Quadratic Discriminant Analysis"
      ],
      "metadata": {
        "id": "j9QYDqZF3qbP"
      }
    },
    {
      "cell_type": "code",
      "source": [
        "import numpy as np\n",
        "import pandas as pd\n",
        "import matplotlib.pyplot as plt\n",
        "import seaborn as sns\n",
        "from sklearn.model_selection import train_test_split\n",
        "from sklearn.preprocessing import StandardScaler\n",
        "from sklearn.linear_model import LogisticRegression\n",
        "from sklearn.linear_model import LinearRegression\n",
        "from sklearn.metrics import confusion_matrix, accuracy_score, classification_report\n",
        "\n",
        "data = pd.read_csv('mental_health_and_technology_usage_2024.csv')\n",
        "\n",
        "print(data.head())\n",
        "print(data.info())\n",
        "print(data.describe())\n",
        "\n",
        "data = data.drop(columns=['User_ID'])\n",
        "print(\"----------------------------------------------------------------\")\n",
        "print(data.isnull().sum())\n",
        "\n",
        "data['Gender'] = data['Gender'].map({'Male': 0, 'Female': 1})\n",
        "\n",
        "# Opción 1: Predicción del estado de salud mental\n",
        "X_mental_health = data.drop(columns=['Mental_Health_Status'])  # Características\n",
        "y_mental_health = data['Mental_Health_Status']  # Variable objetivo\n",
        "\n",
        "# # Opción 2: Predicción del nivel de estrés\n",
        "# X_stress_level = data.drop(columns=['Stress_Level'])  # Características\n",
        "# y_stress_level = data['Stress_Level']  # Variable objetivo\n",
        "\n",
        "\n",
        "\n",
        "\n"
      ],
      "metadata": {
        "colab": {
          "base_uri": "https://localhost:8080/"
        },
        "id": "qe4klCNBusih",
        "outputId": "60d8ad1f-21ba-4020-ee39-0c136595e602"
      },
      "execution_count": 6,
      "outputs": [
        {
          "output_type": "stream",
          "name": "stdout",
          "text": [
            "      User_ID  Age  Gender  Technology_Usage_Hours  Social_Media_Usage_Hours  \\\n",
            "0  USER-00001   23  Female                    6.57                      6.00   \n",
            "1  USER-00002   21    Male                    3.01                      2.57   \n",
            "2  USER-00003   51    Male                    3.04                      6.14   \n",
            "3  USER-00004   25  Female                    3.84                      4.48   \n",
            "4  USER-00005   53    Male                    1.20                      0.56   \n",
            "\n",
            "   Gaming_Hours  Screen_Time_Hours Mental_Health_Status Stress_Level  \\\n",
            "0          0.68              12.36                 Good          Low   \n",
            "1          3.74               7.61                 Poor         High   \n",
            "2          1.26               3.16                 Fair         High   \n",
            "3          2.59              13.08            Excellent       Medium   \n",
            "4          0.29              12.63                 Good          Low   \n",
            "\n",
            "   Sleep_Hours  Physical_Activity_Hours Support_Systems_Access  \\\n",
            "0         8.01                     6.71                     No   \n",
            "1         7.28                     5.88                    Yes   \n",
            "2         8.04                     9.81                     No   \n",
            "3         5.62                     5.28                    Yes   \n",
            "4         5.55                     4.00                     No   \n",
            "\n",
            "  Work_Environment_Impact Online_Support_Usage  \n",
            "0                Negative                  Yes  \n",
            "1                Positive                   No  \n",
            "2                Negative                   No  \n",
            "3                Negative                  Yes  \n",
            "4                Positive                  Yes  \n",
            "<class 'pandas.core.frame.DataFrame'>\n",
            "RangeIndex: 10000 entries, 0 to 9999\n",
            "Data columns (total 14 columns):\n",
            " #   Column                    Non-Null Count  Dtype  \n",
            "---  ------                    --------------  -----  \n",
            " 0   User_ID                   10000 non-null  object \n",
            " 1   Age                       10000 non-null  int64  \n",
            " 2   Gender                    10000 non-null  object \n",
            " 3   Technology_Usage_Hours    10000 non-null  float64\n",
            " 4   Social_Media_Usage_Hours  10000 non-null  float64\n",
            " 5   Gaming_Hours              10000 non-null  float64\n",
            " 6   Screen_Time_Hours         10000 non-null  float64\n",
            " 7   Mental_Health_Status      10000 non-null  object \n",
            " 8   Stress_Level              10000 non-null  object \n",
            " 9   Sleep_Hours               10000 non-null  float64\n",
            " 10  Physical_Activity_Hours   10000 non-null  float64\n",
            " 11  Support_Systems_Access    10000 non-null  object \n",
            " 12  Work_Environment_Impact   10000 non-null  object \n",
            " 13  Online_Support_Usage      10000 non-null  object \n",
            "dtypes: float64(6), int64(1), object(7)\n",
            "memory usage: 1.1+ MB\n",
            "None\n",
            "                Age  Technology_Usage_Hours  Social_Media_Usage_Hours  \\\n",
            "count  10000.000000            10000.000000              10000.000000   \n",
            "mean      41.518600                6.474341                  3.972321   \n",
            "std       13.920217                3.169022                  2.313707   \n",
            "min       18.000000                1.000000                  0.000000   \n",
            "25%       29.000000                3.760000                  1.980000   \n",
            "50%       42.000000                6.425000                  3.950000   \n",
            "75%       54.000000                9.212500                  5.990000   \n",
            "max       65.000000               12.000000                  8.000000   \n",
            "\n",
            "       Gaming_Hours  Screen_Time_Hours   Sleep_Hours  Physical_Activity_Hours  \n",
            "count  10000.000000       10000.000000  10000.000000             10000.000000  \n",
            "mean       2.515598           7.975765      6.500724                 5.003860  \n",
            "std        1.446748           4.042608      1.450933                 2.905044  \n",
            "min        0.000000           1.000000      4.000000                 0.000000  \n",
            "25%        1.260000           4.520000      5.260000                 2.490000  \n",
            "50%        2.520000           7.900000      6.500000                 4.990000  \n",
            "75%        3.790000          11.500000      7.760000                 7.540000  \n",
            "max        5.000000          15.000000      9.000000                10.000000  \n",
            "----------------------------------------------------------------\n",
            "Age                         0\n",
            "Gender                      0\n",
            "Technology_Usage_Hours      0\n",
            "Social_Media_Usage_Hours    0\n",
            "Gaming_Hours                0\n",
            "Screen_Time_Hours           0\n",
            "Mental_Health_Status        0\n",
            "Stress_Level                0\n",
            "Sleep_Hours                 0\n",
            "Physical_Activity_Hours     0\n",
            "Support_Systems_Access      0\n",
            "Work_Environment_Impact     0\n",
            "Online_Support_Usage        0\n",
            "dtype: int64\n"
          ]
        }
      ]
    }
  ]
}